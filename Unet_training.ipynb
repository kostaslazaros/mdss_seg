{
 "cells": [
  {
   "cell_type": "code",
   "execution_count": null,
   "id": "9e5f7897",
   "metadata": {},
   "outputs": [],
   "source": [
    "import sys\n",
    "sys.path.append('./')\n",
    "from segmentation_functions import unet_train as utrn"
   ]
  },
  {
   "cell_type": "code",
   "execution_count": null,
   "id": "9ffdaf38",
   "metadata": {},
   "outputs": [],
   "source": [
    "model = utrn.build_unet_model()"
   ]
  },
  {
   "cell_type": "code",
   "execution_count": null,
   "id": "47180ce4",
   "metadata": {},
   "outputs": [],
   "source": [
    "model.summary()"
   ]
  },
  {
   "cell_type": "code",
   "execution_count": null,
   "id": "b8c5fbcb",
   "metadata": {},
   "outputs": [],
   "source": [
    "utrn.train(model, 'best_unet.h5', 'unet_logs.csv', epochs=20, dataset_path='cvc_ready')"
   ]
  },
  {
   "cell_type": "code",
   "execution_count": null,
   "id": "0891ea7c",
   "metadata": {},
   "outputs": [],
   "source": []
  }
 ],
 "metadata": {
  "kernelspec": {
   "display_name": "Python 3",
   "language": "python",
   "name": "python3"
  },
  "language_info": {
   "codemirror_mode": {
    "name": "ipython",
    "version": 3
   },
   "file_extension": ".py",
   "mimetype": "text/x-python",
   "name": "python",
   "nbconvert_exporter": "python",
   "pygments_lexer": "ipython3",
   "version": "3.9.4"
  }
 },
 "nbformat": 4,
 "nbformat_minor": 5
}
