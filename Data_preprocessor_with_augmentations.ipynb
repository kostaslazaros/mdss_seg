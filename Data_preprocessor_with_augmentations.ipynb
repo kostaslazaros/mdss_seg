{
 "cells": [
  {
   "cell_type": "code",
   "execution_count": 1,
   "id": "9fd38dfd",
   "metadata": {},
   "outputs": [],
   "source": [
    "import sys\n",
    "sys.path.append('./')\n",
    "from segmentation_functions import image_functions as imf"
   ]
  },
  {
   "cell_type": "code",
   "execution_count": 2,
   "id": "299ecfe4",
   "metadata": {},
   "outputs": [
    {
     "name": "stderr",
     "output_type": "stream",
     "text": [
      "E:\\miniconda\\envs\\td27-gpu\\lib\\site-packages\\albumentations\\augmentations\\transforms.py:1800: FutureWarning: This class has been deprecated. Please use RandomBrightnessContrast\n",
      "  warnings.warn(\n",
      "E:\\miniconda\\envs\\td27-gpu\\lib\\site-packages\\albumentations\\augmentations\\transforms.py:1826: FutureWarning: This class has been deprecated. Please use RandomBrightnessContrast\n",
      "  warnings.warn(\n",
      "E:\\miniconda\\envs\\td27-gpu\\lib\\site-packages\\albumentations\\augmentations\\transforms.py:1952: UserWarning: blur_limit and sigma_limit minimum value can not be both equal to 0. blur_limit minimum value changed to 3.\n",
      "  warnings.warn(\n",
      "100%|████████████████████████████████████████| 490/490 [02:20<00:00,  3.49it/s]\n",
      "100%|██████████████████████████████████████████| 61/61 [00:00<00:00, 67.03it/s]\n",
      "100%|██████████████████████████████████████████| 61/61 [00:00<00:00, 67.74it/s]\n"
     ]
    }
   ],
   "source": [
    "imf.transform_dataset(dest_path='cvc_ready', origin_path=\"CVC-ClinicDB\", size=(384, 288))"
   ]
  },
  {
   "cell_type": "code",
   "execution_count": null,
   "id": "4e5a7860",
   "metadata": {},
   "outputs": [],
   "source": []
  }
 ],
 "metadata": {
  "kernelspec": {
   "display_name": "Python 3",
   "language": "python",
   "name": "python3"
  },
  "language_info": {
   "codemirror_mode": {
    "name": "ipython",
    "version": 3
   },
   "file_extension": ".py",
   "mimetype": "text/x-python",
   "name": "python",
   "nbconvert_exporter": "python",
   "pygments_lexer": "ipython3",
   "version": "3.9.4"
  }
 },
 "nbformat": 4,
 "nbformat_minor": 5
}
