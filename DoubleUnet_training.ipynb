{
 "cells": [
  {
   "cell_type": "code",
   "execution_count": null,
   "id": "f3eee74b",
   "metadata": {},
   "outputs": [],
   "source": [
    "import sys\n",
    "sys.path.append('./')\n",
    "from segmentation_functions import doubleUnet_train as wtrn"
   ]
  },
  {
   "cell_type": "code",
   "execution_count": null,
   "id": "34ac3f52",
   "metadata": {},
   "outputs": [],
   "source": [
    "model = wtrn.build_wnet_model()"
   ]
  },
  {
   "cell_type": "code",
   "execution_count": null,
   "id": "d3dfba44",
   "metadata": {},
   "outputs": [],
   "source": [
    "model.summary()"
   ]
  },
  {
   "cell_type": "code",
   "execution_count": null,
   "id": "2ed9720f",
   "metadata": {},
   "outputs": [],
   "source": [
    "wtrn.train_wnet(model, \"CVC-612model.csv\", epochs=300, dataset_path='cvc_ready', model_path='CVC-612model.h5')"
   ]
  },
  {
   "cell_type": "code",
   "execution_count": null,
   "id": "d9e90f86",
   "metadata": {},
   "outputs": [],
   "source": []
  }
 ],
 "metadata": {
  "kernelspec": {
   "display_name": "Python 3",
   "language": "python",
   "name": "python3"
  },
  "language_info": {
   "codemirror_mode": {
    "name": "ipython",
    "version": 3
   },
   "file_extension": ".py",
   "mimetype": "text/x-python",
   "name": "python",
   "nbconvert_exporter": "python",
   "pygments_lexer": "ipython3",
   "version": "3.9.4"
  }
 },
 "nbformat": 4,
 "nbformat_minor": 5
}
